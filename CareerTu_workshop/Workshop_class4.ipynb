{
 "cells": [
  {
   "cell_type": "code",
   "execution_count": null,
   "metadata": {},
   "outputs": [],
   "source": [
    "setwd(\"~/R/Rdata\")\n",
    "ratings <- read.csv(\"workshop_ratings.csv\")\n",
    "users <- read.csv(\"workshop_users.csv\")"
   ]
  },
  {
   "cell_type": "code",
   "execution_count": 16,
   "metadata": {},
   "outputs": [
    {
     "data": {
      "text/html": [
       "<table>\n",
       "<thead><tr><th scope=col>userId</th><th scope=col>movieId</th><th scope=col>rating</th><th scope=col>timestamp</th><th scope=col>budget</th><th scope=col>country</th><th scope=col>director</th><th scope=col>genre</th><th scope=col>gross</th><th scope=col>name</th><th scope=col>⋯</th><th scope=col>studio</th><th scope=col>age</th><th scope=col>sex</th><th scope=col>occupation</th><th scope=col>zipcode</th><th scope=col>Music</th><th scope=col>Movies.Theaters</th><th scope=col>Tech.Gadgets</th><th scope=col>Museums</th><th scope=col>Food.Dining</th></tr></thead>\n",
       "<tbody>\n",
       "\t<tr><td>1                                     </td><td>  31                                  </td><td>2.5                                   </td><td>1260759144                            </td><td> 23000000                             </td><td>USA                                   </td><td>John N. Smith                         </td><td>Biography                             </td><td>84919401                              </td><td>Dangerous Minds (1995)                </td><td>⋯                                     </td><td>Hollywood Pictures                    </td><td>24                                    </td><td>M                                     </td><td>technician                            </td><td>85711                                 </td><td>9.3                                   </td><td>9.7                                   </td><td>0.9                                   </td><td>5.4                                   </td><td>0.9                                   </td></tr>\n",
       "\t<tr><td>1                                     </td><td>1061                                  </td><td>3.0                                   </td><td>1260759182                            </td><td> 44000000                             </td><td>USA                                   </td><td>Barry Levinson                        </td><td>Crime                                 </td><td>49100000                              </td><td>Sleepers (1996)                       </td><td>⋯                                     </td><td>Astoria Films                         </td><td>24                                    </td><td>M                                     </td><td>technician                            </td><td>85711                                 </td><td>9.3                                   </td><td>9.7                                   </td><td>0.9                                   </td><td>5.4                                   </td><td>0.9                                   </td></tr>\n",
       "\t<tr><td>1                                     </td><td>1343                                  </td><td>2.0                                   </td><td>1260759131                            </td><td> 35000000                             </td><td>USA                                   </td><td>Martin Scorsese                       </td><td>Crime                                 </td><td>79100000                              </td><td>Cape Fear (1991)                      </td><td>⋯                                     </td><td>Amblin Entertainment                  </td><td>24                                    </td><td>M                                     </td><td>technician                            </td><td>85711                                 </td><td>9.3                                   </td><td>9.7                                   </td><td>0.9                                   </td><td>5.4                                   </td><td>0.9                                   </td></tr>\n",
       "\t<tr><td>1                                     </td><td>1405                                  </td><td>1.0                                   </td><td>1260759203                            </td><td> 12000000                             </td><td>USA                                   </td><td>Mike Judge                            </td><td>Animation                             </td><td>63071133                              </td><td>Beavis and Butt-Head Do America (1996)</td><td>⋯                                     </td><td>Paramount Pictures                    </td><td>24                                    </td><td>M                                     </td><td>technician                            </td><td>85711                                 </td><td>9.3                                   </td><td>9.7                                   </td><td>0.9                                   </td><td>5.4                                   </td><td>0.9                                   </td></tr>\n",
       "\t<tr><td>1                                     </td><td>2193                                  </td><td>2.0                                   </td><td>1260759198                            </td><td> 35000000                             </td><td>USA                                   </td><td>Ron Howard                            </td><td>Action                                </td><td>57269863                              </td><td>Willow (1988)                         </td><td>⋯                                     </td><td>Metro-Goldwyn-Mayer (MGM)             </td><td>24                                    </td><td>M                                     </td><td>technician                            </td><td>85711                                 </td><td>9.3                                   </td><td>9.7                                   </td><td>0.9                                   </td><td>5.4                                   </td><td>0.9                                   </td></tr>\n",
       "\t<tr><td>1                                     </td><td>2294                                  </td><td>2.0                                   </td><td>1260759108                            </td><td>105000000                             </td><td>USA                                   </td><td>Eric Darnell                          </td><td>Animation                             </td><td>90757863                              </td><td>Antz (1998)                           </td><td>⋯                                     </td><td>DreamWorks                            </td><td>24                                    </td><td>M                                     </td><td>technician                            </td><td>85711                                 </td><td>9.3                                   </td><td>9.7                                   </td><td>0.9                                   </td><td>5.4                                   </td><td>0.9                                   </td></tr>\n",
       "</tbody>\n",
       "</table>\n"
      ],
      "text/latex": [
       "\\begin{tabular}{r|lllllllllllllllllllllll}\n",
       " userId & movieId & rating & timestamp & budget & country & director & genre & gross & name & ⋯ & studio & age & sex & occupation & zipcode & Music & Movies.Theaters & Tech.Gadgets & Museums & Food.Dining\\\\\n",
       "\\hline\n",
       "\t 1                                      &   31                                   & 2.5                                    & 1260759144                             &  23000000                              & USA                                    & John N. Smith                          & Biography                              & 84919401                               & Dangerous Minds (1995)                 & ⋯                                      & Hollywood Pictures                     & 24                                     & M                                      & technician                             & 85711                                  & 9.3                                    & 9.7                                    & 0.9                                    & 5.4                                    & 0.9                                   \\\\\n",
       "\t 1                                      & 1061                                   & 3.0                                    & 1260759182                             &  44000000                              & USA                                    & Barry Levinson                         & Crime                                  & 49100000                               & Sleepers (1996)                        & ⋯                                      & Astoria Films                          & 24                                     & M                                      & technician                             & 85711                                  & 9.3                                    & 9.7                                    & 0.9                                    & 5.4                                    & 0.9                                   \\\\\n",
       "\t 1                                      & 1343                                   & 2.0                                    & 1260759131                             &  35000000                              & USA                                    & Martin Scorsese                        & Crime                                  & 79100000                               & Cape Fear (1991)                       & ⋯                                      & Amblin Entertainment                   & 24                                     & M                                      & technician                             & 85711                                  & 9.3                                    & 9.7                                    & 0.9                                    & 5.4                                    & 0.9                                   \\\\\n",
       "\t 1                                      & 1405                                   & 1.0                                    & 1260759203                             &  12000000                              & USA                                    & Mike Judge                             & Animation                              & 63071133                               & Beavis and Butt-Head Do America (1996) & ⋯                                      & Paramount Pictures                     & 24                                     & M                                      & technician                             & 85711                                  & 9.3                                    & 9.7                                    & 0.9                                    & 5.4                                    & 0.9                                   \\\\\n",
       "\t 1                                      & 2193                                   & 2.0                                    & 1260759198                             &  35000000                              & USA                                    & Ron Howard                             & Action                                 & 57269863                               & Willow (1988)                          & ⋯                                      & Metro-Goldwyn-Mayer (MGM)              & 24                                     & M                                      & technician                             & 85711                                  & 9.3                                    & 9.7                                    & 0.9                                    & 5.4                                    & 0.9                                   \\\\\n",
       "\t 1                                      & 2294                                   & 2.0                                    & 1260759108                             & 105000000                              & USA                                    & Eric Darnell                           & Animation                              & 90757863                               & Antz (1998)                            & ⋯                                      & DreamWorks                             & 24                                     & M                                      & technician                             & 85711                                  & 9.3                                    & 9.7                                    & 0.9                                    & 5.4                                    & 0.9                                   \\\\\n",
       "\\end{tabular}\n"
      ],
      "text/markdown": [
       "\n",
       "userId | movieId | rating | timestamp | budget | country | director | genre | gross | name | ⋯ | studio | age | sex | occupation | zipcode | Music | Movies.Theaters | Tech.Gadgets | Museums | Food.Dining | \n",
       "|---|---|---|---|---|---|\n",
       "| 1                                      |   31                                   | 2.5                                    | 1260759144                             |  23000000                              | USA                                    | John N. Smith                          | Biography                              | 84919401                               | Dangerous Minds (1995)                 | ⋯                                      | Hollywood Pictures                     | 24                                     | M                                      | technician                             | 85711                                  | 9.3                                    | 9.7                                    | 0.9                                    | 5.4                                    | 0.9                                    | \n",
       "| 1                                      | 1061                                   | 3.0                                    | 1260759182                             |  44000000                              | USA                                    | Barry Levinson                         | Crime                                  | 49100000                               | Sleepers (1996)                        | ⋯                                      | Astoria Films                          | 24                                     | M                                      | technician                             | 85711                                  | 9.3                                    | 9.7                                    | 0.9                                    | 5.4                                    | 0.9                                    | \n",
       "| 1                                      | 1343                                   | 2.0                                    | 1260759131                             |  35000000                              | USA                                    | Martin Scorsese                        | Crime                                  | 79100000                               | Cape Fear (1991)                       | ⋯                                      | Amblin Entertainment                   | 24                                     | M                                      | technician                             | 85711                                  | 9.3                                    | 9.7                                    | 0.9                                    | 5.4                                    | 0.9                                    | \n",
       "| 1                                      | 1405                                   | 1.0                                    | 1260759203                             |  12000000                              | USA                                    | Mike Judge                             | Animation                              | 63071133                               | Beavis and Butt-Head Do America (1996) | ⋯                                      | Paramount Pictures                     | 24                                     | M                                      | technician                             | 85711                                  | 9.3                                    | 9.7                                    | 0.9                                    | 5.4                                    | 0.9                                    | \n",
       "| 1                                      | 2193                                   | 2.0                                    | 1260759198                             |  35000000                              | USA                                    | Ron Howard                             | Action                                 | 57269863                               | Willow (1988)                          | ⋯                                      | Metro-Goldwyn-Mayer (MGM)              | 24                                     | M                                      | technician                             | 85711                                  | 9.3                                    | 9.7                                    | 0.9                                    | 5.4                                    | 0.9                                    | \n",
       "| 1                                      | 2294                                   | 2.0                                    | 1260759108                             | 105000000                              | USA                                    | Eric Darnell                           | Animation                              | 90757863                               | Antz (1998)                            | ⋯                                      | DreamWorks                             | 24                                     | M                                      | technician                             | 85711                                  | 9.3                                    | 9.7                                    | 0.9                                    | 5.4                                    | 0.9                                    | \n",
       "\n",
       "\n"
      ],
      "text/plain": [
       "  userId movieId rating timestamp  budget    country director        genre    \n",
       "1 1        31    2.5    1260759144  23000000 USA     John N. Smith   Biography\n",
       "2 1      1061    3.0    1260759182  44000000 USA     Barry Levinson  Crime    \n",
       "3 1      1343    2.0    1260759131  35000000 USA     Martin Scorsese Crime    \n",
       "4 1      1405    1.0    1260759203  12000000 USA     Mike Judge      Animation\n",
       "5 1      2193    2.0    1260759198  35000000 USA     Ron Howard      Action   \n",
       "6 1      2294    2.0    1260759108 105000000 USA     Eric Darnell    Animation\n",
       "  gross    name                                   ⋯ studio                   \n",
       "1 84919401 Dangerous Minds (1995)                 ⋯ Hollywood Pictures       \n",
       "2 49100000 Sleepers (1996)                        ⋯ Astoria Films            \n",
       "3 79100000 Cape Fear (1991)                       ⋯ Amblin Entertainment     \n",
       "4 63071133 Beavis and Butt-Head Do America (1996) ⋯ Paramount Pictures       \n",
       "5 57269863 Willow (1988)                          ⋯ Metro-Goldwyn-Mayer (MGM)\n",
       "6 90757863 Antz (1998)                            ⋯ DreamWorks               \n",
       "  age sex occupation zipcode Music Movies.Theaters Tech.Gadgets Museums\n",
       "1 24  M   technician 85711   9.3   9.7             0.9          5.4    \n",
       "2 24  M   technician 85711   9.3   9.7             0.9          5.4    \n",
       "3 24  M   technician 85711   9.3   9.7             0.9          5.4    \n",
       "4 24  M   technician 85711   9.3   9.7             0.9          5.4    \n",
       "5 24  M   technician 85711   9.3   9.7             0.9          5.4    \n",
       "6 24  M   technician 85711   9.3   9.7             0.9          5.4    \n",
       "  Food.Dining\n",
       "1 0.9        \n",
       "2 0.9        \n",
       "3 0.9        \n",
       "4 0.9        \n",
       "5 0.9        \n",
       "6 0.9        "
      ]
     },
     "metadata": {},
     "output_type": "display_data"
    }
   ],
   "source": [
    "head(ratings)"
   ]
  },
  {
   "cell_type": "code",
   "execution_count": 17,
   "metadata": {},
   "outputs": [],
   "source": [
    "library(dplyr)\n",
    "library(ggplot2)\n",
    "library(data.table)\n"
   ]
  },
  {
   "cell_type": "code",
   "execution_count": 18,
   "metadata": {},
   "outputs": [
    {
     "data": {
      "text/html": [
       "<ol class=list-inline>\n",
       "\t<li>'userId'</li>\n",
       "\t<li>'movieId'</li>\n",
       "\t<li>'rating'</li>\n",
       "\t<li>'timestamp'</li>\n",
       "\t<li>'budget'</li>\n",
       "\t<li>'country'</li>\n",
       "\t<li>'director'</li>\n",
       "\t<li>'genre'</li>\n",
       "\t<li>'gross'</li>\n",
       "\t<li>'name'</li>\n",
       "\t<li>'rating.1'</li>\n",
       "\t<li>'runtime'</li>\n",
       "\t<li>'score'</li>\n",
       "\t<li>'studio'</li>\n",
       "\t<li>'age'</li>\n",
       "\t<li>'sex'</li>\n",
       "\t<li>'occupation'</li>\n",
       "\t<li>'zipcode'</li>\n",
       "\t<li>'Music'</li>\n",
       "\t<li>'Movies.Theaters'</li>\n",
       "\t<li>'Tech.Gadgets'</li>\n",
       "\t<li>'Museums'</li>\n",
       "\t<li>'Food.Dining'</li>\n",
       "</ol>\n"
      ],
      "text/latex": [
       "\\begin{enumerate*}\n",
       "\\item 'userId'\n",
       "\\item 'movieId'\n",
       "\\item 'rating'\n",
       "\\item 'timestamp'\n",
       "\\item 'budget'\n",
       "\\item 'country'\n",
       "\\item 'director'\n",
       "\\item 'genre'\n",
       "\\item 'gross'\n",
       "\\item 'name'\n",
       "\\item 'rating.1'\n",
       "\\item 'runtime'\n",
       "\\item 'score'\n",
       "\\item 'studio'\n",
       "\\item 'age'\n",
       "\\item 'sex'\n",
       "\\item 'occupation'\n",
       "\\item 'zipcode'\n",
       "\\item 'Music'\n",
       "\\item 'Movies.Theaters'\n",
       "\\item 'Tech.Gadgets'\n",
       "\\item 'Museums'\n",
       "\\item 'Food.Dining'\n",
       "\\end{enumerate*}\n"
      ],
      "text/markdown": [
       "1. 'userId'\n",
       "2. 'movieId'\n",
       "3. 'rating'\n",
       "4. 'timestamp'\n",
       "5. 'budget'\n",
       "6. 'country'\n",
       "7. 'director'\n",
       "8. 'genre'\n",
       "9. 'gross'\n",
       "10. 'name'\n",
       "11. 'rating.1'\n",
       "12. 'runtime'\n",
       "13. 'score'\n",
       "14. 'studio'\n",
       "15. 'age'\n",
       "16. 'sex'\n",
       "17. 'occupation'\n",
       "18. 'zipcode'\n",
       "19. 'Music'\n",
       "20. 'Movies.Theaters'\n",
       "21. 'Tech.Gadgets'\n",
       "22. 'Museums'\n",
       "23. 'Food.Dining'\n",
       "\n",
       "\n"
      ],
      "text/plain": [
       " [1] \"userId\"          \"movieId\"         \"rating\"          \"timestamp\"      \n",
       " [5] \"budget\"          \"country\"         \"director\"        \"genre\"          \n",
       " [9] \"gross\"           \"name\"            \"rating.1\"        \"runtime\"        \n",
       "[13] \"score\"           \"studio\"          \"age\"             \"sex\"            \n",
       "[17] \"occupation\"      \"zipcode\"         \"Music\"           \"Movies.Theaters\"\n",
       "[21] \"Tech.Gadgets\"    \"Museums\"         \"Food.Dining\"    "
      ]
     },
     "metadata": {},
     "output_type": "display_data"
    }
   ],
   "source": [
    "names(ratings)"
   ]
  },
  {
   "cell_type": "code",
   "execution_count": 19,
   "metadata": {},
   "outputs": [],
   "source": [
    "colnames(ratings)[11] <- \"imdb_rating\""
   ]
  },
  {
   "cell_type": "code",
   "execution_count": 6,
   "metadata": {},
   "outputs": [
    {
     "data": {
      "text/html": [
       "<table>\n",
       "<thead><tr><th scope=col>userId</th><th scope=col>movieId</th><th scope=col>rating</th><th scope=col>timestamp</th><th scope=col>budget</th><th scope=col>country</th><th scope=col>director</th><th scope=col>genre</th><th scope=col>gross</th><th scope=col>name</th><th scope=col>⋯</th><th scope=col>Writing</th><th scope=col>Sports</th><th scope=col>Gardening</th><th scope=col>Art</th><th scope=col>Shopping</th><th scope=col>Social.Media</th><th scope=col>Reading</th><th scope=col>Socializing</th><th scope=col>Gaming</th><th scope=col>Clothing.Spending</th></tr></thead>\n",
       "<tbody>\n",
       "\t<tr><td>1                                     </td><td>  31                                  </td><td>2.5                                   </td><td>1260759144                            </td><td> 23000000                             </td><td>USA                                   </td><td>John N. Smith                         </td><td>Biography                             </td><td>84919401                              </td><td>Dangerous Minds (1995)                </td><td>⋯                                     </td><td>1.1                                   </td><td>4.9                                   </td><td>0.3                                   </td><td>1.2                                   </td><td>5.2                                   </td><td>4                                     </td><td>5.6                                   </td><td>6.7                                   </td><td>1.9                                   </td><td>7.4                                   </td></tr>\n",
       "\t<tr><td>1                                     </td><td>1061                                  </td><td>3.0                                   </td><td>1260759182                            </td><td> 44000000                             </td><td>USA                                   </td><td>Barry Levinson                        </td><td>Crime                                 </td><td>49100000                              </td><td>Sleepers (1996)                       </td><td>⋯                                     </td><td>1.1                                   </td><td>4.9                                   </td><td>0.3                                   </td><td>1.2                                   </td><td>5.2                                   </td><td>4                                     </td><td>5.6                                   </td><td>6.7                                   </td><td>1.9                                   </td><td>7.4                                   </td></tr>\n",
       "\t<tr><td>1                                     </td><td>1343                                  </td><td>2.0                                   </td><td>1260759131                            </td><td> 35000000                             </td><td>USA                                   </td><td>Martin Scorsese                       </td><td>Crime                                 </td><td>79100000                              </td><td>Cape Fear (1991)                      </td><td>⋯                                     </td><td>1.1                                   </td><td>4.9                                   </td><td>0.3                                   </td><td>1.2                                   </td><td>5.2                                   </td><td>4                                     </td><td>5.6                                   </td><td>6.7                                   </td><td>1.9                                   </td><td>7.4                                   </td></tr>\n",
       "\t<tr><td>1                                     </td><td>1405                                  </td><td>1.0                                   </td><td>1260759203                            </td><td> 12000000                             </td><td>USA                                   </td><td>Mike Judge                            </td><td>Animation                             </td><td>63071133                              </td><td>Beavis and Butt-Head Do America (1996)</td><td>⋯                                     </td><td>1.1                                   </td><td>4.9                                   </td><td>0.3                                   </td><td>1.2                                   </td><td>5.2                                   </td><td>4                                     </td><td>5.6                                   </td><td>6.7                                   </td><td>1.9                                   </td><td>7.4                                   </td></tr>\n",
       "\t<tr><td>1                                     </td><td>2193                                  </td><td>2.0                                   </td><td>1260759198                            </td><td> 35000000                             </td><td>USA                                   </td><td>Ron Howard                            </td><td>Action                                </td><td>57269863                              </td><td>Willow (1988)                         </td><td>⋯                                     </td><td>1.1                                   </td><td>4.9                                   </td><td>0.3                                   </td><td>1.2                                   </td><td>5.2                                   </td><td>4                                     </td><td>5.6                                   </td><td>6.7                                   </td><td>1.9                                   </td><td>7.4                                   </td></tr>\n",
       "\t<tr><td>1                                     </td><td>2294                                  </td><td>2.0                                   </td><td>1260759108                            </td><td>105000000                             </td><td>USA                                   </td><td>Eric Darnell                          </td><td>Animation                             </td><td>90757863                              </td><td>Antz (1998)                           </td><td>⋯                                     </td><td>1.1                                   </td><td>4.9                                   </td><td>0.3                                   </td><td>1.2                                   </td><td>5.2                                   </td><td>4                                     </td><td>5.6                                   </td><td>6.7                                   </td><td>1.9                                   </td><td>7.4                                   </td></tr>\n",
       "</tbody>\n",
       "</table>\n"
      ],
      "text/latex": [
       "\\begin{tabular}{r|lllllllllllllllllllllllllllllllllllll}\n",
       " userId & movieId & rating & timestamp & budget & country & director & genre & gross & name & ⋯ & Writing & Sports & Gardening & Art & Shopping & Social.Media & Reading & Socializing & Gaming & Clothing.Spending\\\\\n",
       "\\hline\n",
       "\t 1                                      &   31                                   & 2.5                                    & 1260759144                             &  23000000                              & USA                                    & John N. Smith                          & Biography                              & 84919401                               & Dangerous Minds (1995)                 & ⋯                                      & 1.1                                    & 4.9                                    & 0.3                                    & 1.2                                    & 5.2                                    & 4                                      & 5.6                                    & 6.7                                    & 1.9                                    & 7.4                                   \\\\\n",
       "\t 1                                      & 1061                                   & 3.0                                    & 1260759182                             &  44000000                              & USA                                    & Barry Levinson                         & Crime                                  & 49100000                               & Sleepers (1996)                        & ⋯                                      & 1.1                                    & 4.9                                    & 0.3                                    & 1.2                                    & 5.2                                    & 4                                      & 5.6                                    & 6.7                                    & 1.9                                    & 7.4                                   \\\\\n",
       "\t 1                                      & 1343                                   & 2.0                                    & 1260759131                             &  35000000                              & USA                                    & Martin Scorsese                        & Crime                                  & 79100000                               & Cape Fear (1991)                       & ⋯                                      & 1.1                                    & 4.9                                    & 0.3                                    & 1.2                                    & 5.2                                    & 4                                      & 5.6                                    & 6.7                                    & 1.9                                    & 7.4                                   \\\\\n",
       "\t 1                                      & 1405                                   & 1.0                                    & 1260759203                             &  12000000                              & USA                                    & Mike Judge                             & Animation                              & 63071133                               & Beavis and Butt-Head Do America (1996) & ⋯                                      & 1.1                                    & 4.9                                    & 0.3                                    & 1.2                                    & 5.2                                    & 4                                      & 5.6                                    & 6.7                                    & 1.9                                    & 7.4                                   \\\\\n",
       "\t 1                                      & 2193                                   & 2.0                                    & 1260759198                             &  35000000                              & USA                                    & Ron Howard                             & Action                                 & 57269863                               & Willow (1988)                          & ⋯                                      & 1.1                                    & 4.9                                    & 0.3                                    & 1.2                                    & 5.2                                    & 4                                      & 5.6                                    & 6.7                                    & 1.9                                    & 7.4                                   \\\\\n",
       "\t 1                                      & 2294                                   & 2.0                                    & 1260759108                             & 105000000                              & USA                                    & Eric Darnell                           & Animation                              & 90757863                               & Antz (1998)                            & ⋯                                      & 1.1                                    & 4.9                                    & 0.3                                    & 1.2                                    & 5.2                                    & 4                                      & 5.6                                    & 6.7                                    & 1.9                                    & 7.4                                   \\\\\n",
       "\\end{tabular}\n"
      ],
      "text/markdown": [
       "\n",
       "userId | movieId | rating | timestamp | budget | country | director | genre | gross | name | ⋯ | Writing | Sports | Gardening | Art | Shopping | Social.Media | Reading | Socializing | Gaming | Clothing.Spending | \n",
       "|---|---|---|---|---|---|\n",
       "| 1                                      |   31                                   | 2.5                                    | 1260759144                             |  23000000                              | USA                                    | John N. Smith                          | Biography                              | 84919401                               | Dangerous Minds (1995)                 | ⋯                                      | 1.1                                    | 4.9                                    | 0.3                                    | 1.2                                    | 5.2                                    | 4                                      | 5.6                                    | 6.7                                    | 1.9                                    | 7.4                                    | \n",
       "| 1                                      | 1061                                   | 3.0                                    | 1260759182                             |  44000000                              | USA                                    | Barry Levinson                         | Crime                                  | 49100000                               | Sleepers (1996)                        | ⋯                                      | 1.1                                    | 4.9                                    | 0.3                                    | 1.2                                    | 5.2                                    | 4                                      | 5.6                                    | 6.7                                    | 1.9                                    | 7.4                                    | \n",
       "| 1                                      | 1343                                   | 2.0                                    | 1260759131                             |  35000000                              | USA                                    | Martin Scorsese                        | Crime                                  | 79100000                               | Cape Fear (1991)                       | ⋯                                      | 1.1                                    | 4.9                                    | 0.3                                    | 1.2                                    | 5.2                                    | 4                                      | 5.6                                    | 6.7                                    | 1.9                                    | 7.4                                    | \n",
       "| 1                                      | 1405                                   | 1.0                                    | 1260759203                             |  12000000                              | USA                                    | Mike Judge                             | Animation                              | 63071133                               | Beavis and Butt-Head Do America (1996) | ⋯                                      | 1.1                                    | 4.9                                    | 0.3                                    | 1.2                                    | 5.2                                    | 4                                      | 5.6                                    | 6.7                                    | 1.9                                    | 7.4                                    | \n",
       "| 1                                      | 2193                                   | 2.0                                    | 1260759198                             |  35000000                              | USA                                    | Ron Howard                             | Action                                 | 57269863                               | Willow (1988)                          | ⋯                                      | 1.1                                    | 4.9                                    | 0.3                                    | 1.2                                    | 5.2                                    | 4                                      | 5.6                                    | 6.7                                    | 1.9                                    | 7.4                                    | \n",
       "| 1                                      | 2294                                   | 2.0                                    | 1260759108                             | 105000000                              | USA                                    | Eric Darnell                           | Animation                              | 90757863                               | Antz (1998)                            | ⋯                                      | 1.1                                    | 4.9                                    | 0.3                                    | 1.2                                    | 5.2                                    | 4                                      | 5.6                                    | 6.7                                    | 1.9                                    | 7.4                                    | \n",
       "\n",
       "\n"
      ],
      "text/plain": [
       "  userId movieId rating timestamp  budget    country director        genre    \n",
       "1 1        31    2.5    1260759144  23000000 USA     John N. Smith   Biography\n",
       "2 1      1061    3.0    1260759182  44000000 USA     Barry Levinson  Crime    \n",
       "3 1      1343    2.0    1260759131  35000000 USA     Martin Scorsese Crime    \n",
       "4 1      1405    1.0    1260759203  12000000 USA     Mike Judge      Animation\n",
       "5 1      2193    2.0    1260759198  35000000 USA     Ron Howard      Action   \n",
       "6 1      2294    2.0    1260759108 105000000 USA     Eric Darnell    Animation\n",
       "  gross    name                                   ⋯ Writing Sports Gardening\n",
       "1 84919401 Dangerous Minds (1995)                 ⋯ 1.1     4.9    0.3      \n",
       "2 49100000 Sleepers (1996)                        ⋯ 1.1     4.9    0.3      \n",
       "3 79100000 Cape Fear (1991)                       ⋯ 1.1     4.9    0.3      \n",
       "4 63071133 Beavis and Butt-Head Do America (1996) ⋯ 1.1     4.9    0.3      \n",
       "5 57269863 Willow (1988)                          ⋯ 1.1     4.9    0.3      \n",
       "6 90757863 Antz (1998)                            ⋯ 1.1     4.9    0.3      \n",
       "  Art Shopping Social.Media Reading Socializing Gaming Clothing.Spending\n",
       "1 1.2 5.2      4            5.6     6.7         1.9    7.4              \n",
       "2 1.2 5.2      4            5.6     6.7         1.9    7.4              \n",
       "3 1.2 5.2      4            5.6     6.7         1.9    7.4              \n",
       "4 1.2 5.2      4            5.6     6.7         1.9    7.4              \n",
       "5 1.2 5.2      4            5.6     6.7         1.9    7.4              \n",
       "6 1.2 5.2      4            5.6     6.7         1.9    7.4              "
      ]
     },
     "metadata": {},
     "output_type": "display_data"
    }
   ],
   "source": [
    "head(ratings_df)"
   ]
  },
  {
   "cell_type": "code",
   "execution_count": 20,
   "metadata": {},
   "outputs": [],
   "source": [
    "ratings_df <- ratings"
   ]
  },
  {
   "cell_type": "code",
   "execution_count": null,
   "metadata": {},
   "outputs": [],
   "source": []
  },
  {
   "cell_type": "code",
   "execution_count": 21,
   "metadata": {},
   "outputs": [],
   "source": [
    "ratings_df$country <- as.factor(ratings_df$country)\n",
    "ratings_df$genre <- as.factor(ratings_df$genre)\n",
    "ratings_df$occupation <- as.factor(ratings_df$occupation)\n",
    "ratings_df$sex <- as.factor(ratings_df$sex)\n",
    "ratings_df$studio <- as.factor(ratings_df$studio)"
   ]
  },
  {
   "cell_type": "code",
   "execution_count": 22,
   "metadata": {},
   "outputs": [
    {
     "data": {
      "text/html": [
       "44703"
      ],
      "text/latex": [
       "44703"
      ],
      "text/markdown": [
       "44703"
      ],
      "text/plain": [
       "[1] 44703"
      ]
     },
     "metadata": {},
     "output_type": "display_data"
    }
   ],
   "source": [
    "nrow(ratings_df)"
   ]
  },
  {
   "cell_type": "code",
   "execution_count": 32,
   "metadata": {},
   "outputs": [
    {
     "name": "stdout",
     "output_type": "stream",
     "text": [
      "'data.frame':\t44703 obs. of  24 variables:\n",
      " $ userId         : int  1 1 1 1 1 1 2 2 2 2 ...\n",
      " $ movieId        : int  31 1061 1343 1405 2193 2294 10 17 52 62 ...\n",
      " $ rating         : num  2.5 3 2 1 2 2 4 5 3 3 ...\n",
      " $ timestamp      : int  1260759144 1260759182 1260759131 1260759203 1260759198 1260759108 835355493 835355681 835356031 835355749 ...\n",
      " $ budget         : int  23000000 44000000 35000000 12000000 35000000 105000000 60000000 16000000 15000000 23000000 ...\n",
      " $ country        : Factor w/ 29 levels \"Argentina\",\"Australia\",..: 29 29 29 29 29 29 28 29 29 29 ...\n",
      " $ director       : Factor w/ 1391 levels \"Aaron Harvey\",..: 655 97 854 923 1140 363 851 65 1382 1234 ...\n",
      " $ genre          : Factor w/ 15 levels \"Action\",\"Adventure\",..: 4 6 6 3 1 3 1 7 5 7 ...\n",
      " $ gross          : int  84919401 49100000 79100000 63071133 57269863 90757863 106600000 43182776 6700000 82569971 ...\n",
      " $ name           : Factor w/ 2920 levels \"'Til There Was You (1997)\",..: 610 2330 432 256 2862 153 1014 2243 1666 1727 ...\n",
      " $ imdb_rating    : Factor w/ 8 levels \"G\",\"NC-17\",\"NOT RATED\",..: 7 7 7 6 5 5 6 5 7 5 ...\n",
      " $ runtime        : int  99 147 128 81 126 83 130 136 95 143 ...\n",
      " $ score          : num  6.4 7.6 7.3 6.8 7.3 6.6 7.2 7.7 7.1 7.3 ...\n",
      " $ studio         : Factor w/ 918 levels \"0\",\"1+2 Seisaku Iinkai\",..: 500 97 55 714 639 342 367 278 830 500 ...\n",
      " $ age            : int  24 24 24 24 24 24 53 53 53 53 ...\n",
      " $ sex            : Factor w/ 2 levels \"F\",\"M\": 2 2 2 2 2 2 1 1 1 1 ...\n",
      " $ occupation     : Factor w/ 21 levels \"administrator\",..: 20 20 20 20 20 20 14 14 14 14 ...\n",
      " $ zipcode        : Factor w/ 586 levels \"0\",\"10003\",\"10010\",..: 461 461 461 461 461 461 511 511 511 511 ...\n",
      " $ Music          : num  9.3 9.3 9.3 9.3 9.3 9.3 8.4 8.4 8.4 8.4 ...\n",
      " $ Movies.Theaters: num  9.7 9.7 9.7 9.7 9.7 9.7 8.8 8.8 8.8 8.8 ...\n",
      " $ Tech.Gadgets   : num  0.9 0.9 0.9 0.9 0.9 0.9 0.3 0.3 0.3 0.3 ...\n",
      " $ Museums        : num  5.4 5.4 5.4 5.4 5.4 5.4 8.2 8.2 8.2 8.2 ...\n",
      " $ Food.Dining    : num  0.9 0.9 0.9 0.9 0.9 0.9 1.4 1.4 1.4 1.4 ...\n",
      " $ high_rating    : num  0 0 0 0 0 0 1 1 0 0 ...\n"
     ]
    }
   ],
   "source": [
    "str(ratings_df)"
   ]
  },
  {
   "cell_type": "code",
   "execution_count": 23,
   "metadata": {
    "scrolled": true
   },
   "outputs": [
    {
     "data": {
      "text/plain": [
       "     userId         movieId           rating        timestamp        \n",
       " Min.   :  1.0   Min.   :     1   Min.   :0.500   Min.   :7.897e+08  \n",
       " 1st Qu.:176.0   1st Qu.:   653   1st Qu.:3.000   1st Qu.:9.734e+08  \n",
       " Median :363.0   Median :  2683   Median :3.500   Median :1.114e+09  \n",
       " Mean   :345.4   Mean   : 14570   Mean   :3.422   Mean   :1.138e+09  \n",
       " 3rd Qu.:518.0   3rd Qu.:  6297   3rd Qu.:4.000   3rd Qu.:1.305e+09  \n",
       " Max.   :671.0   Max.   :161594   Max.   :5.000   Max.   :1.477e+09  \n",
       "                                                                     \n",
       "     budget              country                   director    \n",
       " Min.   :0.00e+00   USA      :39050   Steven Spielberg : 1314  \n",
       " 1st Qu.:1.30e+07   UK       : 3954   Quentin Tarantino:  838  \n",
       " Median :3.00e+07   France   :  658   Robert Zemeckis  :  696  \n",
       " Mean   :4.57e+07   Germany  :  332   Tim Burton       :  604  \n",
       " 3rd Qu.:6.30e+07   Canada   :  231   James Cameron    :  468  \n",
       " Max.   :3.00e+08   Australia:  128   Joel Coen        :  454  \n",
       "                    (Other)  :  350   (Other)          :40329  \n",
       "       genre           gross          \n",
       " Comedy   :12834   Min.   :     1887  \n",
       " Action   :12106   1st Qu.: 26400640  \n",
       " Drama    : 6813   Median : 63095271  \n",
       " Adventure: 3831   Mean   : 95582275  \n",
       " Crime    : 3553   3rd Qu.:130096601  \n",
       " Animation: 2473   Max.   :760507625  \n",
       " (Other)  : 3093                      \n",
       "                                name          imdb_rating       runtime     \n",
       " Forrest Gump (1994)              :  341   R        :20922   Min.   : 69.0  \n",
       " Pulp Fiction (1994)              :  324   PG-13    :15854   1st Qu.:100.0  \n",
       " Jurassic Park (1993)             :  274   PG       : 6160   Median :112.0  \n",
       " Toy Story (1995)                 :  247   G        : 1543   Mean   :115.5  \n",
       " Schindler's List (1993)          :  244   NOT RATED:   83   3rd Qu.:127.0  \n",
       " Terminator 2: Judgment Day (1991):  237   UNRATED  :   76   Max.   :242.0  \n",
       " (Other)                          :43036   (Other)  :   65                  \n",
       "     score                                          studio           age       \n",
       " Min.   :1.900   Warner Bros.                          : 3718   Min.   : 7.00  \n",
       " 1st Qu.:6.500   Paramount Pictures                    : 3685   1st Qu.:24.00  \n",
       " Median :7.100   Universal Pictures                    : 3572   Median :31.00  \n",
       " Mean   :7.057   Twentieth Century Fox Film Corporation: 2410   Mean   :33.85  \n",
       " 3rd Qu.:7.700   Columbia Pictures Corporation         : 1818   3rd Qu.:44.00  \n",
       " Max.   :8.900   Touchstone Pictures                   : 1579   Max.   :73.00  \n",
       "                 (Other)                               :27921                  \n",
       " sex               occupation       zipcode          Music       \n",
       " F:11230   student      : 9086   97301  :  925   Min.   : 0.500  \n",
       " M:33473   educator     : 5650   30067  :  872   1st Qu.: 8.200  \n",
       "           engineer     : 4905   41850  :  785   Median : 8.900  \n",
       "           administrator: 3717   14534  :  736   Mean   : 8.489  \n",
       "           other        : 3580   94591  :  706   3rd Qu.: 9.300  \n",
       "           programmer   : 3220   55117  :  609   Max.   :10.000  \n",
       "           (Other)      :14545   (Other):40070                   \n",
       " Movies.Theaters   Tech.Gadgets       Museums        Food.Dining    \n",
       " Min.   : 1.000   Min.   : 0.000   Min.   : 0.000   Min.   : 0.000  \n",
       " 1st Qu.: 8.000   1st Qu.: 1.600   1st Qu.: 1.900   1st Qu.: 1.300  \n",
       " Median : 8.700   Median : 3.900   Median : 4.200   Median : 3.300  \n",
       " Mean   : 8.358   Mean   : 4.431   Mean   : 4.221   Mean   : 3.786  \n",
       " 3rd Qu.: 9.300   3rd Qu.: 7.400   3rd Qu.: 6.300   3rd Qu.: 5.700  \n",
       " Max.   :10.000   Max.   :10.000   Max.   :10.000   Max.   :10.000  \n",
       "                                                                    "
      ]
     },
     "metadata": {},
     "output_type": "display_data"
    }
   ],
   "source": [
    "summary(ratings_df,budget,country,genre,imdb_rating,score,imdb_rating,age,sex,occupation,Music,)"
   ]
  },
  {
   "cell_type": "code",
   "execution_count": 25,
   "metadata": {
    "collapsed": true
   },
   "outputs": [
    {
     "name": "stderr",
     "output_type": "stream",
     "text": [
      "Installing package into ‘/Users/yurungu/Library/R/3.4/library’\n",
      "(as ‘lib’ is unspecified)\n",
      "------------------------------------------------------------------------------\n",
      "You have loaded plyr after dplyr - this is likely to cause problems.\n",
      "If you need functions from both plyr and dplyr, please load plyr first, then dplyr:\n",
      "library(plyr); library(dplyr)\n",
      "------------------------------------------------------------------------------\n",
      "\n",
      "Attaching package: ‘plyr’\n",
      "\n",
      "The following objects are masked from ‘package:dplyr’:\n",
      "\n",
      "    arrange, count, desc, failwith, id, mutate, rename, summarise,\n",
      "    summarize\n",
      "\n"
     ]
    }
   ],
   "source": [
    "#install.packages(\"plyr\")\n",
    "#library(plyr)\n",
    "#ddply(ratings_df,~occupation,summarise,distinct_cnt=length(unique(userId)))"
   ]
  },
  {
   "cell_type": "code",
   "execution_count": 30,
   "metadata": {},
   "outputs": [],
   "source": [
    "ratings_df<- ratings_df %>% mutate(high_rating=ifelse(rating>=4,1,0))"
   ]
  },
  {
   "cell_type": "code",
   "execution_count": 50,
   "metadata": {},
   "outputs": [],
   "source": [
    "ratings_df$high_rating <- as.factor(ratings_df$high_rating)"
   ]
  },
  {
   "cell_type": "code",
   "execution_count": 51,
   "metadata": {},
   "outputs": [],
   "source": [
    "ratings_df2 <- select(ratings_df,-userId,-movieId,-rating,-timestamp,-director,-gross,-name,-studio,-zipcode,-runtime)"
   ]
  },
  {
   "cell_type": "code",
   "execution_count": 52,
   "metadata": {},
   "outputs": [
    {
     "data": {
      "text/html": [
       "<ol class=list-inline>\n",
       "\t<li>'budget'</li>\n",
       "\t<li>'country'</li>\n",
       "\t<li>'genre'</li>\n",
       "\t<li>'imdb_rating'</li>\n",
       "\t<li>'score'</li>\n",
       "\t<li>'age'</li>\n",
       "\t<li>'sex'</li>\n",
       "\t<li>'occupation'</li>\n",
       "\t<li>'Music'</li>\n",
       "\t<li>'Movies.Theaters'</li>\n",
       "\t<li>'Tech.Gadgets'</li>\n",
       "\t<li>'Museums'</li>\n",
       "\t<li>'Food.Dining'</li>\n",
       "\t<li>'high_rating'</li>\n",
       "</ol>\n"
      ],
      "text/latex": [
       "\\begin{enumerate*}\n",
       "\\item 'budget'\n",
       "\\item 'country'\n",
       "\\item 'genre'\n",
       "\\item 'imdb\\_rating'\n",
       "\\item 'score'\n",
       "\\item 'age'\n",
       "\\item 'sex'\n",
       "\\item 'occupation'\n",
       "\\item 'Music'\n",
       "\\item 'Movies.Theaters'\n",
       "\\item 'Tech.Gadgets'\n",
       "\\item 'Museums'\n",
       "\\item 'Food.Dining'\n",
       "\\item 'high\\_rating'\n",
       "\\end{enumerate*}\n"
      ],
      "text/markdown": [
       "1. 'budget'\n",
       "2. 'country'\n",
       "3. 'genre'\n",
       "4. 'imdb_rating'\n",
       "5. 'score'\n",
       "6. 'age'\n",
       "7. 'sex'\n",
       "8. 'occupation'\n",
       "9. 'Music'\n",
       "10. 'Movies.Theaters'\n",
       "11. 'Tech.Gadgets'\n",
       "12. 'Museums'\n",
       "13. 'Food.Dining'\n",
       "14. 'high_rating'\n",
       "\n",
       "\n"
      ],
      "text/plain": [
       " [1] \"budget\"          \"country\"         \"genre\"           \"imdb_rating\"    \n",
       " [5] \"score\"           \"age\"             \"sex\"             \"occupation\"     \n",
       " [9] \"Music\"           \"Movies.Theaters\" \"Tech.Gadgets\"    \"Museums\"        \n",
       "[13] \"Food.Dining\"     \"high_rating\"    "
      ]
     },
     "metadata": {},
     "output_type": "display_data"
    }
   ],
   "source": [
    "names(ratings_df2)"
   ]
  },
  {
   "cell_type": "code",
   "execution_count": 34,
   "metadata": {},
   "outputs": [
    {
     "name": "stderr",
     "output_type": "stream",
     "text": [
      "Installing package into ‘/Users/yurungu/Library/R/3.4/library’\n",
      "(as ‘lib’ is unspecified)\n"
     ]
    }
   ],
   "source": [
    "\n",
    "install.packages(\"caret\")\n"
   ]
  },
  {
   "cell_type": "code",
   "execution_count": 35,
   "metadata": {},
   "outputs": [
    {
     "name": "stderr",
     "output_type": "stream",
     "text": [
      "Loading required package: lattice\n"
     ]
    }
   ],
   "source": [
    "library(caret)"
   ]
  },
  {
   "cell_type": "code",
   "execution_count": 53,
   "metadata": {},
   "outputs": [],
   "source": [
    "# split the data into training and testing datasets \n",
    "index <- createDataPartition(ratings_df2$high_rating, p=0.75, list=FALSE)\n",
    "trainSet <- ratings_df2[index,]\n",
    "testSet <- ratings_df2[-index,]"
   ]
  },
  {
   "cell_type": "code",
   "execution_count": 54,
   "metadata": {},
   "outputs": [
    {
     "data": {
      "text/html": [
       "33528"
      ],
      "text/latex": [
       "33528"
      ],
      "text/markdown": [
       "33528"
      ],
      "text/plain": [
       "[1] 33528"
      ]
     },
     "metadata": {},
     "output_type": "display_data"
    },
    {
     "data": {
      "text/html": [
       "11175"
      ],
      "text/latex": [
       "11175"
      ],
      "text/markdown": [
       "11175"
      ],
      "text/plain": [
       "[1] 11175"
      ]
     },
     "metadata": {},
     "output_type": "display_data"
    }
   ],
   "source": [
    "nrow(trainSet)\n",
    "nrow(testSet)"
   ]
  },
  {
   "cell_type": "code",
   "execution_count": 55,
   "metadata": {},
   "outputs": [],
   "source": [
    "\n",
    "# use glm to train the model on the training dataset. make sure to set family to \"binomial\"\n",
    "glm.fit <- glm(high_rating ~ ., data=trainSet, family=\"binomial\")\n",
    " "
   ]
  },
  {
   "cell_type": "code",
   "execution_count": 56,
   "metadata": {
    "scrolled": true
   },
   "outputs": [
    {
     "data": {
      "text/plain": [
       "\n",
       "Call:\n",
       "glm(formula = high_rating ~ ., family = \"binomial\", data = trainSet)\n",
       "\n",
       "Deviance Residuals: \n",
       "    Min       1Q   Median       3Q      Max  \n",
       "-2.1221  -1.0398  -0.5632   1.0702   3.0125  \n",
       "\n",
       "Coefficients:\n",
       "                           Estimate Std. Error z value Pr(>|z|)    \n",
       "(Intercept)              -1.990e+01  3.247e+02  -0.061 0.951128    \n",
       "budget                   -1.194e-09  3.176e-10  -3.760 0.000170 ***\n",
       "countryAustralia          1.334e+01  3.247e+02   0.041 0.967224    \n",
       "countryAustria            5.361e-01  4.593e+02   0.001 0.999069    \n",
       "countryBelgium            1.358e+01  3.247e+02   0.042 0.966653    \n",
       "countryCanada             1.376e+01  3.247e+02   0.042 0.966194    \n",
       "countryChina              1.351e+01  3.247e+02   0.042 0.966814    \n",
       "countryCzech Republic     1.455e+00  4.593e+02   0.003 0.997471    \n",
       "countryDenmark            1.437e+01  3.247e+02   0.044 0.964704    \n",
       "countryFrance             1.342e+01  3.247e+02   0.041 0.967040    \n",
       "countryGermany            1.354e+01  3.247e+02   0.042 0.966732    \n",
       "countryHong Kong          1.244e+01  3.247e+02   0.038 0.969432    \n",
       "countryHungary            1.070e+00  3.971e+02   0.003 0.997849    \n",
       "countryIndia              1.318e+01  3.247e+02   0.041 0.967624    \n",
       "countryIndonesia          1.459e+01  3.247e+02   0.045 0.964158    \n",
       "countryIreland            1.410e+01  3.247e+02   0.043 0.965357    \n",
       "countryItaly              1.364e+01  3.247e+02   0.042 0.966508    \n",
       "countryJapan              1.343e+01  3.247e+02   0.041 0.967008    \n",
       "countryMexico             2.593e+01  3.609e+02   0.072 0.942714    \n",
       "countryNetherlands        1.362e+01  3.247e+02   0.042 0.966534    \n",
       "countryNew Zealand        1.364e+01  3.247e+02   0.042 0.966497    \n",
       "countryNorway             1.265e+01  3.247e+02   0.039 0.968937    \n",
       "countryPalestine          2.566e+01  3.976e+02   0.065 0.948540    \n",
       "countryPoland             9.944e-01  4.593e+02   0.002 0.998272    \n",
       "countrySouth Africa       1.369e+00  3.628e+02   0.004 0.996988    \n",
       "countrySpain              1.290e+01  3.247e+02   0.040 0.968303    \n",
       "countrySwitzerland        1.390e+01  3.247e+02   0.043 0.965851    \n",
       "countryTaiwan             1.328e+01  3.247e+02   0.041 0.967382    \n",
       "countryUK                 1.364e+01  3.247e+02   0.042 0.966508    \n",
       "countryUSA                1.346e+01  3.247e+02   0.041 0.966927    \n",
       "genreAdventure           -8.465e-02  4.862e-02  -1.741 0.081645 .  \n",
       "genreAnimation           -9.701e-03  8.166e-02  -0.119 0.905440    \n",
       "genreBiography            1.811e-01  6.499e-02   2.786 0.005339 ** \n",
       "genreComedy               1.655e-01  3.642e-02   4.544 5.52e-06 ***\n",
       "genreCrime                1.632e-01  5.145e-02   3.172 0.001515 ** \n",
       "genreDrama                1.034e-01  4.111e-02   2.517 0.011849 *  \n",
       "genreFamily               3.573e-01  3.265e-01   1.094 0.273801    \n",
       "genreFantasy              1.908e-01  2.528e-01   0.755 0.450459    \n",
       "genreHorror               1.138e-01  1.029e-01   1.106 0.268605    \n",
       "genreMusical             -1.219e+01  3.247e+02  -0.038 0.970050    \n",
       "genreMystery              1.241e-01  1.439e-01   0.863 0.388313    \n",
       "genreRomance              4.824e-01  4.235e-01   1.139 0.254711    \n",
       "genreSci-Fi              -4.384e-01  3.128e-01  -1.402 0.161022    \n",
       "genreThriller             1.646e+00  5.736e-01   2.869 0.004113 ** \n",
       "imdb_ratingNC-17          2.957e-01  3.927e-01   0.753 0.451449    \n",
       "imdb_ratingNOT RATED      2.046e-01  3.330e-01   0.614 0.538888    \n",
       "imdb_ratingNot specified  3.720e-01  1.434e+00   0.259 0.795266    \n",
       "imdb_ratingPG             2.035e-01  9.204e-02   2.211 0.027055 *  \n",
       "imdb_ratingPG-13          3.408e-02  9.865e-02   0.346 0.729698    \n",
       "imdb_ratingR              1.262e-01  9.758e-02   1.293 0.195958    \n",
       "imdb_ratingUNRATED        1.246e+00  3.390e-01   3.676 0.000237 ***\n",
       "score                     8.584e-01  1.651e-02  51.981  < 2e-16 ***\n",
       "age                      -7.728e-04  1.302e-03  -0.593 0.552916    \n",
       "sexM                      1.029e-01  3.054e-02   3.371 0.000750 ***\n",
       "occupationartist         -6.756e-02  7.811e-02  -0.865 0.387019    \n",
       "occupationdoctor          6.220e-01  1.364e-01   4.559 5.14e-06 ***\n",
       "occupationeducator        5.452e-02  5.404e-02   1.009 0.313063    \n",
       "occupationengineer        2.730e-02  5.481e-02   0.498 0.618424    \n",
       "occupationentertainment   3.784e-01  1.195e-01   3.166 0.001543 ** \n",
       "occupationexecutive       1.602e-01  8.441e-02   1.898 0.057744 .  \n",
       "occupationhealthcare      2.882e-01  9.653e-02   2.986 0.002829 ** \n",
       "occupationhomemaker      -1.971e-01  2.567e-01  -0.768 0.442638    \n",
       "occupationlawyer          5.031e-01  1.216e-01   4.136 3.54e-05 ***\n",
       "occupationlibrarian       3.172e-01  7.014e-02   4.522 6.12e-06 ***\n",
       "occupationmarketing       5.983e-01  8.151e-02   7.340 2.14e-13 ***\n",
       "occupationnone           -7.187e-02  1.351e-01  -0.532 0.594878    \n",
       "occupationother           3.408e-01  5.830e-02   5.845 5.05e-09 ***\n",
       "occupationprogrammer      1.882e-01  6.011e-02   3.131 0.001744 ** \n",
       "occupationretired         7.837e-01  9.144e-02   8.571  < 2e-16 ***\n",
       "occupationsalesman       -2.324e-01  1.112e-01  -2.089 0.036700 *  \n",
       "occupationscientist       1.090e-01  8.031e-02   1.357 0.174882    \n",
       "occupationstudent         2.369e-01  5.170e-02   4.582 4.60e-06 ***\n",
       "occupationtechnician     -2.018e-02  8.363e-02  -0.241 0.809326    \n",
       "occupationwriter          3.534e-01  7.568e-02   4.669 3.03e-06 ***\n",
       "Music                    -2.296e-02  8.890e-03  -2.582 0.009819 ** \n",
       "Movies.Theaters           1.569e-03  8.403e-03   0.187 0.851844    \n",
       "Tech.Gadgets             -3.288e-04  4.044e-03  -0.081 0.935200    \n",
       "Museums                   9.073e-03  4.607e-03   1.969 0.048938 *  \n",
       "Food.Dining              -9.939e-03  4.501e-03  -2.208 0.027252 *  \n",
       "---\n",
       "Signif. codes:  0 ‘***’ 0.001 ‘**’ 0.01 ‘*’ 0.05 ‘.’ 0.1 ‘ ’ 1\n",
       "\n",
       "(Dispersion parameter for binomial family taken to be 1)\n",
       "\n",
       "    Null deviance: 46311  on 33527  degrees of freedom\n",
       "Residual deviance: 41665  on 33449  degrees of freedom\n",
       "AIC: 41823\n",
       "\n",
       "Number of Fisher Scoring iterations: 11\n"
      ]
     },
     "metadata": {},
     "output_type": "display_data"
    }
   ],
   "source": [
    "summary(glm.fit)"
   ]
  },
  {
   "cell_type": "code",
   "execution_count": 60,
   "metadata": {
    "scrolled": false
   },
   "outputs": [],
   "source": [
    "testSet$predicted <- predict(glm.fit, newdata=testSet, type=\"response\") # predicted probabilities"
   ]
  },
  {
   "cell_type": "code",
   "execution_count": 64,
   "metadata": {
    "collapsed": true
   },
   "outputs": [
    {
     "data": {
      "text/plain": [
       "   \n",
       "    FALSE TRUE\n",
       "  0  4187 1797\n",
       "  1  2051 3140"
      ]
     },
     "metadata": {},
     "output_type": "display_data"
    }
   ],
   "source": [
    "# confusion matrix\n",
    "table(testSet$high_rating,testSet$predicted>0.5)"
   ]
  },
  {
   "cell_type": "code",
   "execution_count": 66,
   "metadata": {},
   "outputs": [
    {
     "data": {
      "text/html": [
       "0.655659955257271"
      ],
      "text/latex": [
       "0.655659955257271"
      ],
      "text/markdown": [
       "0.655659955257271"
      ],
      "text/plain": [
       "[1] 0.65566"
      ]
     },
     "metadata": {},
     "output_type": "display_data"
    }
   ],
   "source": [
    "acc <-(4187+3140)/(4187+3140+1797+2051)\n",
    "acc"
   ]
  },
  {
   "cell_type": "code",
   "execution_count": 67,
   "metadata": {},
   "outputs": [
    {
     "name": "stdout",
     "output_type": "stream",
     "text": [
      "Start:  AIC=41822.86\n",
      "high_rating ~ budget + country + genre + imdb_rating + score + \n",
      "    age + sex + occupation + Music + Movies.Theaters + Tech.Gadgets + \n",
      "    Museums + Food.Dining\n",
      "\n",
      "                  Df Deviance   AIC\n",
      "- country         28    41717 41819\n",
      "- Tech.Gadgets     1    41665 41821\n",
      "- Movies.Theaters  1    41665 41821\n",
      "- age              1    41665 41821\n",
      "<none>                  41665 41823\n",
      "- Museums          1    41669 41825\n",
      "- Food.Dining      1    41670 41826\n",
      "- Music            1    41672 41828\n",
      "- sex              1    41676 41832\n",
      "- budget           1    41679 41835\n",
      "- imdb_rating      7    41704 41848\n",
      "- genre           14    41720 41850\n",
      "- occupation      20    41913 42031\n",
      "- score            1    44891 45047\n",
      "\n",
      "Step:  AIC=41819.14\n",
      "high_rating ~ budget + genre + imdb_rating + score + age + sex + \n",
      "    occupation + Music + Movies.Theaters + Tech.Gadgets + Museums + \n",
      "    Food.Dining\n",
      "\n",
      "                  Df Deviance   AIC\n",
      "- Tech.Gadgets     1    41717 41817\n",
      "- Movies.Theaters  1    41717 41817\n",
      "- age              1    41717 41817\n",
      "<none>                  41717 41819\n",
      "- Museums          1    41721 41821\n",
      "- Food.Dining      1    41722 41822\n",
      "- Music            1    41724 41824\n",
      "- sex              1    41728 41828\n",
      "- budget           1    41731 41831\n",
      "- imdb_rating      7    41755 41843\n",
      "- genre           14    41773 41847\n",
      "- occupation      20    41967 42029\n",
      "- score            1    44995 45095\n",
      "\n",
      "Step:  AIC=41817.14\n",
      "high_rating ~ budget + genre + imdb_rating + score + age + sex + \n",
      "    occupation + Music + Movies.Theaters + Museums + Food.Dining\n",
      "\n",
      "                  Df Deviance   AIC\n",
      "- Movies.Theaters  1    41717 41815\n",
      "- age              1    41717 41815\n",
      "<none>                  41717 41817\n",
      "- Museums          1    41721 41819\n",
      "- Food.Dining      1    41722 41820\n",
      "- Music            1    41724 41822\n",
      "- sex              1    41728 41826\n",
      "- budget           1    41731 41829\n",
      "- imdb_rating      7    41755 41841\n",
      "- genre           14    41773 41845\n",
      "- occupation      20    41968 42028\n",
      "- score            1    44997 45095\n",
      "\n",
      "Step:  AIC=41815.16\n",
      "high_rating ~ budget + genre + imdb_rating + score + age + sex + \n",
      "    occupation + Music + Museums + Food.Dining\n",
      "\n",
      "              Df Deviance   AIC\n",
      "- age          1    41717 41813\n",
      "<none>              41717 41815\n",
      "- Museums      1    41721 41817\n",
      "- Food.Dining  1    41722 41818\n",
      "- Music        1    41724 41820\n",
      "- sex          1    41729 41825\n",
      "- budget       1    41731 41827\n",
      "- imdb_rating  7    41755 41839\n",
      "- genre       14    41773 41843\n",
      "- occupation  20    41968 42026\n",
      "- score        1    44997 45093\n",
      "\n",
      "Step:  AIC=41813.49\n",
      "high_rating ~ budget + genre + imdb_rating + score + sex + occupation + \n",
      "    Music + Museums + Food.Dining\n",
      "\n",
      "              Df Deviance   AIC\n",
      "<none>              41717 41813\n",
      "- Museums      1    41721 41815\n",
      "- Food.Dining  1    41722 41816\n",
      "- Music        1    41724 41818\n",
      "- sex          1    41729 41823\n",
      "- budget       1    41732 41826\n",
      "- imdb_rating  7    41755 41837\n",
      "- genre       14    41773 41841\n",
      "- occupation  20    41972 42028\n",
      "- score        1    44997 45091\n"
     ]
    }
   ],
   "source": [
    "step.glm <-step(glm.fit)"
   ]
  },
  {
   "cell_type": "code",
   "execution_count": 68,
   "metadata": {},
   "outputs": [
    {
     "data": {
      "text/plain": [
       "\n",
       "Call:\n",
       "glm(formula = high_rating ~ budget + genre + imdb_rating + score + \n",
       "    sex + occupation + Music + Museums + Food.Dining, family = \"binomial\", \n",
       "    data = trainSet)\n",
       "\n",
       "Deviance Residuals: \n",
       "    Min       1Q   Median       3Q      Max  \n",
       "-2.1390  -1.0405  -0.5654   1.0737   3.0110  \n",
       "\n",
       "Coefficients:\n",
       "                           Estimate Std. Error z value Pr(>|z|)    \n",
       "(Intercept)              -6.468e+00  1.754e-01 -36.876  < 2e-16 ***\n",
       "budget                   -1.173e-09  3.132e-10  -3.744 0.000181 ***\n",
       "genreAdventure           -6.723e-02  4.831e-02  -1.392 0.164006    \n",
       "genreAnimation           -9.996e-03  7.985e-02  -0.125 0.900375    \n",
       "genreBiography            2.115e-01  6.449e-02   3.279 0.001041 ** \n",
       "genreComedy               1.705e-01  3.629e-02   4.698 2.63e-06 ***\n",
       "genreCrime                1.583e-01  5.124e-02   3.090 0.002000 ** \n",
       "genreDrama                1.071e-01  4.086e-02   2.621 0.008775 ** \n",
       "genreFamily               3.553e-01  3.265e-01   1.088 0.276566    \n",
       "genreFantasy              1.826e-01  2.527e-01   0.723 0.469864    \n",
       "genreHorror               1.298e-01  1.023e-01   1.268 0.204714    \n",
       "genreMusical             -9.204e+00  7.246e+01  -0.127 0.898929    \n",
       "genreMystery              1.158e-01  1.438e-01   0.805 0.420637    \n",
       "genreRomance              4.899e-01  4.228e-01   1.159 0.246635    \n",
       "genreSci-Fi              -4.517e-01  3.128e-01  -1.444 0.148669    \n",
       "genreThriller             1.649e+00  5.739e-01   2.874 0.004056 ** \n",
       "imdb_ratingNC-17          3.028e-01  3.868e-01   0.783 0.433647    \n",
       "imdb_ratingNOT RATED      2.200e-01  2.934e-01   0.750 0.453356    \n",
       "imdb_ratingNot specified  5.278e-01  1.420e+00   0.372 0.710223    \n",
       "imdb_ratingPG             1.984e-01  9.110e-02   2.178 0.029425 *  \n",
       "imdb_ratingPG-13          3.423e-02  9.720e-02   0.352 0.724725    \n",
       "imdb_ratingR              1.311e-01  9.611e-02   1.364 0.172439    \n",
       "imdb_ratingUNRATED        1.152e+00  3.285e-01   3.506 0.000455 ***\n",
       "score                     8.602e-01  1.642e-02  52.393  < 2e-16 ***\n",
       "sexM                      1.039e-01  3.037e-02   3.421 0.000624 ***\n",
       "occupationartist         -6.196e-02  7.747e-02  -0.800 0.423844    \n",
       "occupationdoctor          6.294e-01  1.355e-01   4.646 3.39e-06 ***\n",
       "occupationeducator        5.177e-02  5.251e-02   0.986 0.324189    \n",
       "occupationengineer        3.223e-02  5.475e-02   0.589 0.556056    \n",
       "occupationentertainment   3.827e-01  1.190e-01   3.215 0.001305 ** \n",
       "occupationexecutive       1.594e-01  8.407e-02   1.896 0.057951 .  \n",
       "occupationhealthcare      2.839e-01  9.558e-02   2.971 0.002973 ** \n",
       "occupationhomemaker      -1.816e-01  2.568e-01  -0.707 0.479329    \n",
       "occupationlawyer          5.021e-01  1.214e-01   4.137 3.52e-05 ***\n",
       "occupationlibrarian       3.232e-01  6.977e-02   4.632 3.62e-06 ***\n",
       "occupationmarketing       5.976e-01  8.141e-02   7.341 2.12e-13 ***\n",
       "occupationnone           -6.131e-02  1.346e-01  -0.456 0.648737    \n",
       "occupationother           3.463e-01  5.820e-02   5.950 2.68e-09 ***\n",
       "occupationprogrammer      1.937e-01  5.997e-02   3.230 0.001239 ** \n",
       "occupationretired         7.668e-01  8.267e-02   9.276  < 2e-16 ***\n",
       "occupationsalesman       -2.335e-01  1.093e-01  -2.136 0.032712 *  \n",
       "occupationscientist       1.099e-01  7.963e-02   1.380 0.167489    \n",
       "occupationstudent         2.500e-01  4.825e-02   5.181 2.21e-07 ***\n",
       "occupationtechnician     -1.692e-02  8.354e-02  -0.203 0.839508    \n",
       "occupationwriter          3.549e-01  7.549e-02   4.701 2.59e-06 ***\n",
       "Music                    -2.214e-02  8.703e-03  -2.544 0.010962 *  \n",
       "Museums                   8.915e-03  4.596e-03   1.940 0.052437 .  \n",
       "Food.Dining              -1.001e-02  4.481e-03  -2.234 0.025498 *  \n",
       "---\n",
       "Signif. codes:  0 ‘***’ 0.001 ‘**’ 0.01 ‘*’ 0.05 ‘.’ 0.1 ‘ ’ 1\n",
       "\n",
       "(Dispersion parameter for binomial family taken to be 1)\n",
       "\n",
       "    Null deviance: 46311  on 33527  degrees of freedom\n",
       "Residual deviance: 41717  on 33480  degrees of freedom\n",
       "AIC: 41813\n",
       "\n",
       "Number of Fisher Scoring iterations: 8\n"
      ]
     },
     "metadata": {},
     "output_type": "display_data"
    }
   ],
   "source": [
    "summary(step.glm)"
   ]
  },
  {
   "cell_type": "code",
   "execution_count": 70,
   "metadata": {},
   "outputs": [],
   "source": []
  },
  {
   "cell_type": "code",
   "execution_count": 71,
   "metadata": {},
   "outputs": [
    {
     "data": {
      "text/plain": [
       "  Sepal.Length    Sepal.Width     Petal.Length    Petal.Width   \n",
       " Min.   :4.300   Min.   :2.000   Min.   :1.000   Min.   :0.100  \n",
       " 1st Qu.:5.100   1st Qu.:2.800   1st Qu.:1.600   1st Qu.:0.300  \n",
       " Median :5.800   Median :3.000   Median :4.350   Median :1.300  \n",
       " Mean   :5.843   Mean   :3.057   Mean   :3.758   Mean   :1.199  \n",
       " 3rd Qu.:6.400   3rd Qu.:3.300   3rd Qu.:5.100   3rd Qu.:1.800  \n",
       " Max.   :7.900   Max.   :4.400   Max.   :6.900   Max.   :2.500  "
      ]
     },
     "metadata": {},
     "output_type": "display_data"
    }
   ],
   "source": [
    "data(iris)\n",
    "summary(iris[,1:4])"
   ]
  },
  {
   "cell_type": "code",
   "execution_count": 73,
   "metadata": {},
   "outputs": [],
   "source": [
    "preprocessParams <- preProcess(iris[,1:4], method=c(\"scale\"))"
   ]
  },
  {
   "cell_type": "code",
   "execution_count": 75,
   "metadata": {},
   "outputs": [
    {
     "name": "stdout",
     "output_type": "stream",
     "text": [
      "Created from 150 samples and 4 variables\n",
      "\n",
      "Pre-processing:\n",
      "  - ignored (0)\n",
      "  - scaled (4)\n",
      "\n"
     ]
    },
    {
     "data": {
      "text/html": [
       "'preProcess'"
      ],
      "text/latex": [
       "'preProcess'"
      ],
      "text/markdown": [
       "'preProcess'"
      ],
      "text/plain": [
       "[1] \"preProcess\""
      ]
     },
     "metadata": {},
     "output_type": "display_data"
    }
   ],
   "source": [
    "print(preprocessParams)\n",
    "class(preprocessParams)"
   ]
  },
  {
   "cell_type": "code",
   "execution_count": null,
   "metadata": {},
   "outputs": [],
   "source": []
  }
 ],
 "metadata": {
  "kernelspec": {
   "display_name": "R",
   "language": "R",
   "name": "ir"
  },
  "language_info": {
   "codemirror_mode": "r",
   "file_extension": ".r",
   "mimetype": "text/x-r-source",
   "name": "R",
   "pygments_lexer": "r",
   "version": "3.4.3"
  }
 },
 "nbformat": 4,
 "nbformat_minor": 2
}
